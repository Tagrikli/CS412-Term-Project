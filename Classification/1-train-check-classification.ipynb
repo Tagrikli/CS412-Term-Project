{
 "cells": [
  {
   "cell_type": "code",
   "execution_count": 1,
   "metadata": {},
   "outputs": [
    {
     "name": "stdout",
     "output_type": "stream",
     "text": [
      "Shape before `dropna`: (2742, 2)\n",
      "Shape after `dropna`: (2742, 2)\n",
      "Unique usernames amount: (2742,)\n"
     ]
    }
   ],
   "source": [
    "import pandas as pd\n",
    "\n",
    "\n",
    "df = pd.read_csv(\"released_dataset/train-classification.csv\")\n",
    "\n",
    "# Correct column names\n",
    "df.columns = [\"username\", \"label\"]\n",
    "\n",
    "# Lowercase label names.\n",
    "df[\"label\"] = df[\"label\"].apply(str.lower)\n",
    "\n",
    "# Remove any NA field.\n",
    "print(f\"Shape before `dropna`: {df.shape}\")\n",
    "df = df.dropna()\n",
    "print(f\"Shape after `dropna`: {df.shape}\")\n",
    "\n",
    "# Check there is no duplicate usernames.\n",
    "len_unique_username = df[\"username\"].unique().shape\n",
    "print(f\"Unique usernames amount: {len_unique_username}\")\n",
    "\n",
    "df.to_parquet(\"data/train-classification.parquet\")"
   ]
  },
  {
   "cell_type": "code",
   "execution_count": 2,
   "metadata": {},
   "outputs": [
    {
     "data": {
      "text/html": [
       "<div>\n",
       "<style scoped>\n",
       "    .dataframe tbody tr th:only-of-type {\n",
       "        vertical-align: middle;\n",
       "    }\n",
       "\n",
       "    .dataframe tbody tr th {\n",
       "        vertical-align: top;\n",
       "    }\n",
       "\n",
       "    .dataframe thead th {\n",
       "        text-align: right;\n",
       "    }\n",
       "</style>\n",
       "<table border=\"1\" class=\"dataframe\">\n",
       "  <thead>\n",
       "    <tr style=\"text-align: right;\">\n",
       "      <th></th>\n",
       "      <th>username</th>\n",
       "      <th>label</th>\n",
       "    </tr>\n",
       "  </thead>\n",
       "  <tbody>\n",
       "    <tr>\n",
       "      <th>0</th>\n",
       "      <td>taskirancemal</td>\n",
       "      <td>mom and children</td>\n",
       "    </tr>\n",
       "    <tr>\n",
       "      <th>1</th>\n",
       "      <td>tam_kararinda</td>\n",
       "      <td>food</td>\n",
       "    </tr>\n",
       "    <tr>\n",
       "      <th>2</th>\n",
       "      <td>spart4nn</td>\n",
       "      <td>food</td>\n",
       "    </tr>\n",
       "    <tr>\n",
       "      <th>3</th>\n",
       "      <td>sosyalyiyiciler</td>\n",
       "      <td>food</td>\n",
       "    </tr>\n",
       "    <tr>\n",
       "      <th>4</th>\n",
       "      <td>sonaydizdarahad</td>\n",
       "      <td>mom and children</td>\n",
       "    </tr>\n",
       "    <tr>\n",
       "      <th>...</th>\n",
       "      <td>...</td>\n",
       "      <td>...</td>\n",
       "    </tr>\n",
       "    <tr>\n",
       "      <th>2737</th>\n",
       "      <td>rubisaglik</td>\n",
       "      <td>health and lifestyle</td>\n",
       "    </tr>\n",
       "    <tr>\n",
       "      <th>2738</th>\n",
       "      <td>safamecomercial</td>\n",
       "      <td>tech</td>\n",
       "    </tr>\n",
       "    <tr>\n",
       "      <th>2739</th>\n",
       "      <td>sahrapsoysal</td>\n",
       "      <td>food</td>\n",
       "    </tr>\n",
       "    <tr>\n",
       "      <th>2740</th>\n",
       "      <td>woodtechistanbul</td>\n",
       "      <td>tech</td>\n",
       "    </tr>\n",
       "    <tr>\n",
       "      <th>2741</th>\n",
       "      <td>herbisiatolye</td>\n",
       "      <td>health and lifestyle</td>\n",
       "    </tr>\n",
       "  </tbody>\n",
       "</table>\n",
       "<p>2742 rows × 2 columns</p>\n",
       "</div>"
      ],
      "text/plain": [
       "              username                 label\n",
       "0        taskirancemal      mom and children\n",
       "1        tam_kararinda                  food\n",
       "2             spart4nn                  food\n",
       "3      sosyalyiyiciler                  food\n",
       "4      sonaydizdarahad      mom and children\n",
       "...                ...                   ...\n",
       "2737        rubisaglik  health and lifestyle\n",
       "2738   safamecomercial                  tech\n",
       "2739      sahrapsoysal                  food\n",
       "2740  woodtechistanbul                  tech\n",
       "2741     herbisiatolye  health and lifestyle\n",
       "\n",
       "[2742 rows x 2 columns]"
      ]
     },
     "execution_count": 2,
     "metadata": {},
     "output_type": "execute_result"
    }
   ],
   "source": [
    "df = pd.read_parquet('data/train-classification.parquet')\n",
    "\n",
    "df"
   ]
  }
 ],
 "metadata": {
  "kernelspec": {
   "display_name": "env",
   "language": "python",
   "name": "python3"
  },
  "language_info": {
   "codemirror_mode": {
    "name": "ipython",
    "version": 3
   },
   "file_extension": ".py",
   "mimetype": "text/x-python",
   "name": "python",
   "nbconvert_exporter": "python",
   "pygments_lexer": "ipython3",
   "version": "3.9.20"
  }
 },
 "nbformat": 4,
 "nbformat_minor": 2
}
