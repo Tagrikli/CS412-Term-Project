{
 "cells": [
  {
   "cell_type": "code",
   "execution_count": 1,
   "metadata": {},
   "outputs": [
    {
     "data": {
      "application/vnd.jupyter.widget-view+json": {
       "model_id": "03d8dde9a044488ca8478b54fb33fe56",
       "version_major": 2,
       "version_minor": 0
      },
      "text/plain": [
       "  0%|          | 0/3253 [00:00<?, ?it/s]"
      ]
     },
     "metadata": {},
     "output_type": "display_data"
    },
    {
     "data": {
      "application/vnd.jupyter.widget-view+json": {
       "model_id": "7f1bc299f17d4635913c9a434f003786",
       "version_major": 2,
       "version_minor": 0
      },
      "text/plain": [
       "  0%|          | 0/111117 [00:00<?, ?it/s]"
      ]
     },
     "metadata": {},
     "output_type": "display_data"
    },
    {
     "data": {
      "text/html": [
       "<div>\n",
       "<style scoped>\n",
       "    .dataframe tbody tr th:only-of-type {\n",
       "        vertical-align: middle;\n",
       "    }\n",
       "\n",
       "    .dataframe tbody tr th {\n",
       "        vertical-align: top;\n",
       "    }\n",
       "\n",
       "    .dataframe thead th {\n",
       "        text-align: right;\n",
       "    }\n",
       "</style>\n",
       "<table border=\"1\" class=\"dataframe\">\n",
       "  <thead>\n",
       "    <tr style=\"text-align: right;\">\n",
       "      <th></th>\n",
       "      <th>username</th>\n",
       "      <th>caption</th>\n",
       "    </tr>\n",
       "  </thead>\n",
       "  <tbody>\n",
       "    <tr>\n",
       "      <th>0</th>\n",
       "      <td>deparmedya</td>\n",
       "      <td>cumhuriyetimizin 100.yılı kutlu olsun &lt;emoji&gt; ...</td>\n",
       "    </tr>\n",
       "    <tr>\n",
       "      <th>1</th>\n",
       "      <td>deparmedya</td>\n",
       "      <td>oriflame duologi lansmanı &lt;hashtag&gt; isveçtenge...</td>\n",
       "    </tr>\n",
       "    <tr>\n",
       "      <th>2</th>\n",
       "      <td>deparmedya</td>\n",
       "      <td>&lt;hashtag&gt; oriflameilesaçbakımdevrimi &lt;/hashtag...</td>\n",
       "    </tr>\n",
       "    <tr>\n",
       "      <th>3</th>\n",
       "      <td>deparmedya</td>\n",
       "      <td>&lt;emoji&gt; sıkıştıran_el_koyu_ten_tonu &lt;/emoji&gt; &lt;...</td>\n",
       "    </tr>\n",
       "    <tr>\n",
       "      <th>4</th>\n",
       "      <td>deparmedya</td>\n",
       "      <td>07 agustos’23 &lt;hashtag&gt; oriflameturkiye &lt;/hash...</td>\n",
       "    </tr>\n",
       "    <tr>\n",
       "      <th>...</th>\n",
       "      <td>...</td>\n",
       "      <td>...</td>\n",
       "    </tr>\n",
       "    <tr>\n",
       "      <th>172998</th>\n",
       "      <td>tariszeytinyagi</td>\n",
       "      <td>9 eylül güzel i̇zmir’imizin kurtuluş günü, cum...</td>\n",
       "    </tr>\n",
       "    <tr>\n",
       "      <th>172999</th>\n",
       "      <td>tariszeytinyagi</td>\n",
       "      <td>tariş zeytinyağı sofralarımıza uzanan şifa ve ...</td>\n",
       "    </tr>\n",
       "    <tr>\n",
       "      <th>173000</th>\n",
       "      <td>tariszeytinyagi</td>\n",
       "      <td>kendine özgün tadı ile damağınızda derin bir l...</td>\n",
       "    </tr>\n",
       "    <tr>\n",
       "      <th>173001</th>\n",
       "      <td>tariszeytinyagi</td>\n",
       "      <td>serinleten ayran çorbası malzemeler: 1,5 su ba...</td>\n",
       "    </tr>\n",
       "    <tr>\n",
       "      <th>173002</th>\n",
       "      <td>tariszeytinyagi</td>\n",
       "      <td>hasat zamanı yaklaşıyor… hoşgeldin eylül. &lt;has...</td>\n",
       "    </tr>\n",
       "  </tbody>\n",
       "</table>\n",
       "<p>111117 rows × 2 columns</p>\n",
       "</div>"
      ],
      "text/plain": [
       "               username                                            caption\n",
       "0            deparmedya  cumhuriyetimizin 100.yılı kutlu olsun <emoji> ...\n",
       "1            deparmedya  oriflame duologi lansmanı <hashtag> isveçtenge...\n",
       "2            deparmedya  <hashtag> oriflameilesaçbakımdevrimi </hashtag...\n",
       "3            deparmedya  <emoji> sıkıştıran_el_koyu_ten_tonu </emoji> <...\n",
       "4            deparmedya  07 agustos’23 <hashtag> oriflameturkiye </hash...\n",
       "...                 ...                                                ...\n",
       "172998  tariszeytinyagi  9 eylül güzel i̇zmir’imizin kurtuluş günü, cum...\n",
       "172999  tariszeytinyagi  tariş zeytinyağı sofralarımıza uzanan şifa ve ...\n",
       "173000  tariszeytinyagi  kendine özgün tadı ile damağınızda derin bir l...\n",
       "173001  tariszeytinyagi  serinleten ayran çorbası malzemeler: 1,5 su ba...\n",
       "173002  tariszeytinyagi  hasat zamanı yaklaşıyor… hoşgeldin eylül. <has...\n",
       "\n",
       "[111117 rows x 2 columns]"
      ]
     },
     "execution_count": 1,
     "metadata": {},
     "output_type": "execute_result"
    }
   ],
   "source": [
    "import pandas as pd\n",
    "from tqdm.notebook import tqdm\n",
    "tqdm.pandas()\n",
    "\n",
    "from Preprocessor import preprocess\n",
    "\n",
    "df_ub = pd.read_parquet('data/username_biography_2em.parquet')\n",
    "df_ca = pd.read_parquet('data/username_caption_2em.parquet')\n",
    "\n",
    "df_ub = df_ub.dropna()\n",
    "\n",
    "df_ub['biography'] = df_ub['biography'].progress_apply(preprocess)\n",
    "df_ub\n",
    "\n",
    "df_ca['caption'] = df_ca['caption'].progress_apply(preprocess)\n",
    "df_ca"
   ]
  },
  {
   "cell_type": "code",
   "execution_count": 2,
   "metadata": {},
   "outputs": [],
   "source": [
    "df_ub.to_parquet('data/ub_2em_clean.parquet')\n",
    "df_ca.to_parquet('data/uc_2em_clean.parquet')"
   ]
  },
  {
   "cell_type": "code",
   "execution_count": 3,
   "metadata": {},
   "outputs": [],
   "source": [
    "df_ub = pd.read_parquet('data/ub_2em_clean.parquet')\n",
    "df_ca = pd.read_parquet('data/uc_2em_clean.parquet')\n",
    "\n",
    "#df_ub.to_csv('data/ub_2em_clean.csv')\n",
    "#df_ca.to_csv('data/uc_2em_clean.csv')"
   ]
  }
 ],
 "metadata": {
  "kernelspec": {
   "display_name": "env",
   "language": "python",
   "name": "python3"
  },
  "language_info": {
   "codemirror_mode": {
    "name": "ipython",
    "version": 3
   },
   "file_extension": ".py",
   "mimetype": "text/x-python",
   "name": "python",
   "nbconvert_exporter": "python",
   "pygments_lexer": "ipython3",
   "version": "3.9.20"
  }
 },
 "nbformat": 4,
 "nbformat_minor": 2
}
